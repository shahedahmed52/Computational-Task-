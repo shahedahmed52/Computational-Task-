{
 "cells": [
  {
   "cell_type": "code",
   "execution_count": 1,
   "metadata": {},
   "outputs": [
    {
     "name": "stdout",
     "output_type": "stream",
     "text": [
      "Defaulting to user installation because normal site-packages is not writeable\n",
      "Requirement already satisfied: pyteomics in c:\\users\\osman\\appdata\\local\\packages\\pythonsoftwarefoundation.python.3.12_qbz5n2kfra8p0\\localcache\\local-packages\\python312\\site-packages (4.7.5)\n"
     ]
    }
   ],
   "source": [
    "! pip install pyteomics"
   ]
  },
  {
   "cell_type": "code",
   "execution_count": 13,
   "metadata": {},
   "outputs": [],
   "source": [
    "from pyteomics import mass as pyteo_mass \n",
    "from collections import defaultdict\n"
   ]
  },
  {
   "cell_type": "code",
   "execution_count": 15,
   "metadata": {},
   "outputs": [],
   "source": [
    "\n",
    "# Function to compute the monoisotopic mass of a peptide\n",
    "def compute_peptide_mass(sequence):\n",
    "    return pyteo_mass.calculate_mass(sequence=sequence)  # Use the renamed module\n",
    "\n",
    "# Function to digest the protein into peptides using a cleavage rule (e.g., trypsin rule)\n",
    "def digest_protein(protein_sequence, cleavage_rule):\n",
    "    peptides = []\n",
    "    start = 0\n",
    "    for i in range(1, len(protein_sequence)):\n",
    "        if protein_sequence[i] in cleavage_rule and protein_sequence[i-1] not in 'P':\n",
    "            peptides.append(protein_sequence[start:i])\n",
    "            start = i\n",
    "    peptides.append(protein_sequence[start:])\n",
    "    return peptides\n",
    "\n",
    "# Function to map peptides to their masses\n",
    "def map_peptides_to_masses(peptides):\n",
    "    mass_to_peptides = defaultdict(list)\n",
    "    for peptide in peptides:\n",
    "        peptide_mass = compute_peptide_mass(peptide)\n",
    "        mass_to_peptides[peptide_mass].append(peptide)\n",
    "    return mass_to_peptides\n",
    "\n",
    "# Function to find isobaric peptides (peptides with the same mass but different sequences)\n",
    "def find_isobaric_peptides(mass_to_peptides):\n",
    "    isobaric_peptides = {}\n",
    "    for mass, peptides in mass_to_peptides.items():\n",
    "        if len(peptides) > 1:  # If there are multiple peptides with the same mass\n",
    "            unique_peptides = set(peptides)  # Remove duplicates\n",
    "            if len(unique_peptides) > 1:  # If there are peptides with different sequences but the same mass\n",
    "                isobaric_peptides[mass] = list(unique_peptides)\n",
    "    return isobaric_peptides\n",
    "\n",
    "# Function to read the protein sequence from a FASTA file\n",
    "def read_protein_from_fasta(fasta_file):\n",
    "    with open(fasta_file, 'r') as file:\n",
    "        lines = file.readlines()\n",
    "        protein_sequence = ''.join(lines[1:]).replace('\\n', '')  # Combine lines after the first one (ignoring the header)\n",
    "    return protein_sequence\n",
    "\n"
   ]
  },
  {
   "cell_type": "code",
   "execution_count": 16,
   "metadata": {},
   "outputs": [
    {
     "name": "stdout",
     "output_type": "stream",
     "text": [
      "Loaded Protein Sequence:\n",
      "MDAIQDKIEEIESDFLGNLKSSTLQEQLEAFTLGIPTEKMSIPPEVKFNKPFVFNVTTDMTKTFTAILLQKRSGFQELLSEYLKENGITGMAMKYIHIPSEKGTEAAFVRQFNEKEDGRVSAHVLHSFRRHFNDLRMQTLGIILFPADEVAHTVLVANLPKFEKTERLYAQKIVATSAILRVYFIYMIYFKGNWYSP\n",
      "\n",
      "Peptide Masses and Sequences:\n",
      "Mass: 691.2847 Da => Peptides: MDAIQD\n",
      "Mass: 1505.7613 Da => Peptides: KIEEIESDFLGNL\n",
      "Mass: 2091.0736 Da => Peptides: KSSTLQEQLEAFTLGIPTE\n",
      "Mass: 899.4786 Da => Peptides: KMSIPPEV\n",
      "Mass: 407.2169 Da => Peptides: KFN\n",
      "Mass: 1398.6853 Da => Peptides: KPFVFNVTTDMT\n",
      "Mass: 1033.6172 Da => Peptides: KTFTAILLQ\n",
      "Mass: 146.1055 Da => Peptides: K\n",
      "Mass: 1440.7249 Da => Peptides: RSGFQELLSEYL\n",
      "Mass: 1050.4838 Da => Peptides: KENGITGMAM\n",
      "Mass: 985.5233 Da => Peptides: KYIHIPSE\n",
      "Mass: 821.4283 Da => Peptides: KGTEAAFV\n",
      "Mass: 692.3242 Da => Peptides: RQFNE\n",
      "Mass: 447.1965 Da => Peptides: KEDG\n",
      "Mass: 1151.6200 Da => Peptides: RVSAHVLHSF\n",
      "Mass: 174.1117 Da => Peptides: R\n",
      "Mass: 800.3929 Da => Peptides: RHFNDL\n",
      "Mass: 3121.6998 Da => Peptides: RMQTLGIILFPADEVAHTVLVANLPKFE\n",
      "Mass: 376.1958 Da => Peptides: KTE\n",
      "Mass: 649.3548 Da => Peptides: RLYAQ\n",
      "Mass: 914.5801 Da => Peptides: KIVATSAIL\n",
      "Mass: 1413.7155 Da => Peptides: RVYFIYMIYF\n",
      "Mass: 850.3974 Da => Peptides: KGNWYSP\n",
      "\n",
      "No isobaric peptides detected.\n"
     ]
    }
   ],
   "source": [
    "# Main part of the code\n",
    "if __name__ == \"__main__\":\n",
    "    fasta_file = \"Hemoglobin.fasta\"  # Path to the FASTA file\n",
    "    protein_sequence = read_protein_from_fasta(fasta_file)\n",
    "    print(f\"Loaded Protein Sequence:\\n{protein_sequence}\\n\")\n",
    "\n",
    "    # Define the cleavage rule for trypsin (cut after K and R, unless followed by P)\n",
    "    trypsin_rule = ['K', 'R']\n",
    "\n",
    "    # Digest the protein sequence into peptides\n",
    "    digested_peptides = digest_protein(protein_sequence, trypsin_rule)\n",
    "\n",
    "    # Map peptides to their masses\n",
    "    peptide_mass_map = map_peptides_to_masses(digested_peptides)\n",
    "    print(\"Peptide Masses and Sequences:\")\n",
    "    for mass, peptides in peptide_mass_map.items():\n",
    "        print(f\"Mass: {mass:.4f} Da => Peptides: {', '.join(peptides)}\")\n",
    "\n",
    "    # Find isobaric peptides (same mass, different sequences)\n",
    "    isobaric_peptides = find_isobaric_peptides(peptide_mass_map)\n",
    "    if isobaric_peptides:\n",
    "        print(\"\\nIsobaric Peptides Found:\")\n",
    "        for mass, seqs in isobaric_peptides.items():\n",
    "            print(f\"Mass: {mass:.4f} Da => Sequences: {', '.join(seqs)}\")\n",
    "    else:\n",
    "        print(\"\\nNo isobaric peptides detected.\")\n"
   ]
  }
 ],
 "metadata": {
  "kernelspec": {
   "display_name": "Python 3",
   "language": "python",
   "name": "python3"
  },
  "language_info": {
   "codemirror_mode": {
    "name": "ipython",
    "version": 3
   },
   "file_extension": ".py",
   "mimetype": "text/x-python",
   "name": "python",
   "nbconvert_exporter": "python",
   "pygments_lexer": "ipython3",
   "version": "3.12.8"
  }
 },
 "nbformat": 4,
 "nbformat_minor": 2
}
